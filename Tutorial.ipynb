{
 "cells": [
  {
   "cell_type": "markdown",
   "id": "59474e7d",
   "metadata": {},
   "source": [
    "## Xenium Spatial DE Test"
   ]
  },
  {
   "cell_type": "code",
   "execution_count": 1,
   "id": "4aa29c52",
   "metadata": {},
   "outputs": [],
   "source": [
    "from Neighborhood_DE import Neighborhood\n",
    "import numpy as np\n",
    "import pandas as pd\n",
    "import scanpy as sc"
   ]
  },
  {
   "cell_type": "code",
   "execution_count": 2,
   "id": "e7df08a6",
   "metadata": {},
   "outputs": [],
   "source": [
    "adata = sc.read_h5ad('data/Xenium_5K_breast_cancer.h5ad')"
   ]
  },
  {
   "cell_type": "markdown",
   "id": "ca8d770d",
   "metadata": {},
   "source": [
    "#### Example 1: Sender Mode\n",
    "\n",
    "Find sender cells of the types you specified.\n",
    "\n",
    "Divide them into:\n",
    "\n",
    "- Group 1: sender cells expressing PDL1.\n",
    "\n",
    "- Group 2: sender cells not expressing PDL1.\n",
    "\n",
    "- Extra filter: only keep sender cells where ≥ 50% of their neighbors are of the receiver type (e.g., \"Cancer Epithelial\").\n",
    "\n",
    "- Perform DE between Group 1 vs Group 2.\n",
    "\n",
    "Biological question:\n",
    "\"What genes are differentially expressed between CXCL12-posiive and CXCL12-negative sender cells, considering only senders surrounded by the receiver cell type\""
   ]
  },
  {
   "cell_type": "code",
   "execution_count": 3,
   "id": "eec33e8a",
   "metadata": {},
   "outputs": [
    {
     "name": "stdout",
     "output_type": "stream",
     "text": [
      "['Cancer Epithelial'] expressing gene CXCL12 at num cells: 8993\n",
      "neighborhood cell mask length of [    15     16     17 ... 577255 577256 577257]\n",
      "fraction above 50% has size 1\n",
      "['Cancer Epithelial'] expressing gene CXCL12 filtered by neighbor percentage at num cells: 176\n",
      "group 1 indices of length: 176\n",
      "group2 indices of length: 13870\n"
     ]
    },
    {
     "name": "stderr",
     "output_type": "stream",
     "text": [
      "/media/qian/vol2/Ivy/envs/xenium-env/lib/python3.10/site-packages/anndata/_core/anndata.py:1146: ImplicitModificationWarning: Trying to modify attribute `.obs` of view, initializing view as actual.\n",
      "  df[key] = c\n"
     ]
    }
   ],
   "source": [
    "celltype_receiver = {\n",
    "    'celltype': ['T-cells', 'Myeloid', 'B-cells'],\n",
    "    'rctd_celltype': ['tcell', 'myeloid', 'bcells']\n",
    "}\n",
    "\n",
    "celltype_sender = {\n",
    "    'celltype': ['Cancer Epithelial'],\n",
    "    'rctd_celltype': ['epithelial']\n",
    "}\n",
    "\n",
    "method = Neighborhood(\n",
    "    gene='CXCL12',\n",
    "    celltype_sender=celltype_sender,\n",
    "    celltype_receiver=celltype_receiver,\n",
    "    adata=adata,\n",
    "    sender=True,\n",
    "    receiver=False,\n",
    "    neighbor_perc=0.1  # optional: require at least 50% of neighbors be receiver cell type\n",
    ")\n",
    "\n",
    "# Run DE test without bootstrapping\n",
    "diff_expr = method.de_test(\n",
    "    nperm=0,\n",
    "    sort=True,\n",
    "    test='wilcoxon'\n",
    ")\n"
   ]
  },
  {
   "cell_type": "markdown",
   "id": "c4eec6a9",
   "metadata": {},
   "source": [
    "### Example 2: Sender mode + Neighbor Gene Filter\n",
    "\n",
    "Group 1: PDCD1+ sender cells.\n",
    "\n",
    "Group 2: PDCD1- sender cells.\n",
    "\n",
    "Extra filter: only keep sender cells that have at least one neighbor expressing CD274.\n",
    "\n",
    "Perform DE between Group 1 vs Group 2.\n",
    "\n",
    "Biological question:\n",
    "\"What genes distinguish PDL1+ vs PDL1- sender cells, among those surrounded by receiver cells and exposed to CD274-expressing neighbors\""
   ]
  },
  {
   "cell_type": "code",
   "execution_count": 3,
   "id": "1cd5adf7",
   "metadata": {},
   "outputs": [
    {
     "name": "stdout",
     "output_type": "stream",
     "text": [
      "['Cancer Epithelial'] expressing gene PDCD1 at num cells: 515\n",
      "group 1 indices of length: 137\n",
      "group2 indices of length: 25791\n"
     ]
    },
    {
     "name": "stderr",
     "output_type": "stream",
     "text": [
      "/media/qian/vol2/Ivy/envs/xenium-env/lib/python3.10/site-packages/anndata/_core/anndata.py:1146: ImplicitModificationWarning: Trying to modify attribute `.obs` of view, initializing view as actual.\n",
      "  df[key] = c\n"
     ]
    }
   ],
   "source": [
    "celltype_receiver = {\n",
    "    'celltype': ['T-cells', 'Myeloid', 'B-cells'],\n",
    "    'rctd_celltype': ['tcell', 'myeloid', 'bcells']\n",
    "}\n",
    "\n",
    "celltype_sender = {\n",
    "    'celltype': ['Cancer Epithelial'],\n",
    "    'rctd_celltype': ['epithelial']\n",
    "}\n",
    "\n",
    "method = Neighborhood(\n",
    "    gene='PDCD1',\n",
    "    neighbor_gene='CD274',\n",
    "    celltype_sender=celltype_sender,\n",
    "    celltype_receiver=celltype_receiver,\n",
    "    adata=adata,\n",
    "    sender=True,\n",
    "    receiver=False,\n",
    "    neighbor_perc=0  # e.g., no neighbor celltype defined, just by neighobr_gene\n",
    ")\n",
    "\n",
    "diff_expr = method.de_test(\n",
    "    nperm=0,\n",
    "    sort=True\n",
    ")\n"
   ]
  },
  {
   "cell_type": "markdown",
   "id": "4f7ad736",
   "metadata": {},
   "source": [
    "### Example 3: Receiver Mode\n",
    "Focus on receiver cells.\n",
    "Divide them into:\n",
    "\n",
    "- Group 1: receiver cells that have at least one neighbor expressing PDL1.\n",
    "- Group 2: receiver cells without neighbors expressing PDL1.\n",
    "\n",
    "Biological question:\n",
    "\"What genes are differentially expressed in receiver cells that are near PDL1+ cells compared to those not near PDL1+ cells?\"\n",
    "\n",
    "This looks at cells surrounding gene expression\n",
    "1. Masks expression by those with gene expression > 0 for {gene} (ex: CXCL12)\n",
    "2. Determines neighbors of genes from mask in step 1\n",
    "3. is celltype_receiver is set, then filter out the neighbors by celltype receiver (ex: neighbor cells to CXCL12 +/- that are immune cells)"
   ]
  },
  {
   "cell_type": "code",
   "execution_count": 5,
   "id": "cc301b83",
   "metadata": {},
   "outputs": [
    {
     "name": "stdout",
     "output_type": "stream",
     "text": [
      "group 1 indices of length: 100911\n",
      "group2 indices of length: 261913\n"
     ]
    },
    {
     "name": "stderr",
     "output_type": "stream",
     "text": [
      "/media/qian/vol2/Ivy/envs/xenium-env/lib/python3.10/site-packages/anndata/_core/anndata.py:1146: ImplicitModificationWarning: Trying to modify attribute `.obs` of view, initializing view as actual.\n",
      "  df[key] = c\n"
     ]
    },
    {
     "ename": "KeyboardInterrupt",
     "evalue": "",
     "output_type": "error",
     "traceback": [
      "\u001b[0;31m---------------------------------------------------------------------------\u001b[0m",
      "\u001b[0;31mKeyboardInterrupt\u001b[0m                         Traceback (most recent call last)",
      "Cell \u001b[0;32mIn[5], line 20\u001b[0m\n\u001b[1;32m      6\u001b[0m celltype_sender \u001b[38;5;241m=\u001b[39m {\n\u001b[1;32m      7\u001b[0m     \u001b[38;5;124m'\u001b[39m\u001b[38;5;124mcelltype\u001b[39m\u001b[38;5;124m'\u001b[39m: [\u001b[38;5;124m'\u001b[39m\u001b[38;5;124mCancer Epithelial\u001b[39m\u001b[38;5;124m'\u001b[39m],\n\u001b[1;32m      8\u001b[0m     \u001b[38;5;124m'\u001b[39m\u001b[38;5;124mrctd_celltype\u001b[39m\u001b[38;5;124m'\u001b[39m: [\u001b[38;5;124m'\u001b[39m\u001b[38;5;124mepithelial\u001b[39m\u001b[38;5;124m'\u001b[39m]\n\u001b[1;32m      9\u001b[0m }\n\u001b[1;32m     11\u001b[0m method \u001b[38;5;241m=\u001b[39m Neighborhood(\n\u001b[1;32m     12\u001b[0m     gene\u001b[38;5;241m=\u001b[39m\u001b[38;5;124m'\u001b[39m\u001b[38;5;124mCXCL12\u001b[39m\u001b[38;5;124m'\u001b[39m,\n\u001b[1;32m     13\u001b[0m     celltype_sender\u001b[38;5;241m=\u001b[39m\u001b[38;5;28;01mNone\u001b[39;00m,\n\u001b[0;32m   (...)\u001b[0m\n\u001b[1;32m     17\u001b[0m     receiver\u001b[38;5;241m=\u001b[39m\u001b[38;5;28;01mTrue\u001b[39;00m\n\u001b[1;32m     18\u001b[0m )\n\u001b[0;32m---> 20\u001b[0m diff_expr \u001b[38;5;241m=\u001b[39m \u001b[43mmethod\u001b[49m\u001b[38;5;241;43m.\u001b[39;49m\u001b[43mde_test\u001b[49m\u001b[43m(\u001b[49m\n\u001b[1;32m     21\u001b[0m \u001b[43m    \u001b[49m\u001b[43mnperm\u001b[49m\u001b[38;5;241;43m=\u001b[39;49m\u001b[38;5;241;43m0\u001b[39;49m\u001b[43m,\u001b[49m\n\u001b[1;32m     22\u001b[0m \u001b[43m    \u001b[49m\u001b[43msort\u001b[49m\u001b[38;5;241;43m=\u001b[39;49m\u001b[38;5;28;43;01mTrue\u001b[39;49;00m\n\u001b[1;32m     23\u001b[0m \u001b[43m)\u001b[49m\n",
      "File \u001b[0;32m/media/qian/vol2/Ivy/Projects_Dir/perturb/spatial_goldstandard/Neighborhood_DE.py:245\u001b[0m, in \u001b[0;36mde_test\u001b[0;34m(self, nperm, sort, test)\u001b[0m\n\u001b[1;32m      0\u001b[0m <Error retrieving source code with stack_data see ipython/ipython#13598>\n",
      "File \u001b[0;32m/media/qian/vol2/Ivy/envs/xenium-env/lib/python3.10/site-packages/legacy_api_wrap/__init__.py:82\u001b[0m, in \u001b[0;36mlegacy_api.<locals>.wrapper.<locals>.fn_compatible\u001b[0;34m(*args_all, **kw)\u001b[0m\n\u001b[1;32m     79\u001b[0m \u001b[38;5;129m@wraps\u001b[39m(fn)\n\u001b[1;32m     80\u001b[0m \u001b[38;5;28;01mdef\u001b[39;00m\u001b[38;5;250m \u001b[39m\u001b[38;5;21mfn_compatible\u001b[39m(\u001b[38;5;241m*\u001b[39margs_all: P\u001b[38;5;241m.\u001b[39margs, \u001b[38;5;241m*\u001b[39m\u001b[38;5;241m*\u001b[39mkw: P\u001b[38;5;241m.\u001b[39mkwargs) \u001b[38;5;241m-\u001b[39m\u001b[38;5;241m>\u001b[39m R:\n\u001b[1;32m     81\u001b[0m     \u001b[38;5;28;01mif\u001b[39;00m \u001b[38;5;28mlen\u001b[39m(args_all) \u001b[38;5;241m<\u001b[39m\u001b[38;5;241m=\u001b[39m n_positional:\n\u001b[0;32m---> 82\u001b[0m         \u001b[38;5;28;01mreturn\u001b[39;00m \u001b[43mfn\u001b[49m\u001b[43m(\u001b[49m\u001b[38;5;241;43m*\u001b[39;49m\u001b[43margs_all\u001b[49m\u001b[43m,\u001b[49m\u001b[43m \u001b[49m\u001b[38;5;241;43m*\u001b[39;49m\u001b[38;5;241;43m*\u001b[39;49m\u001b[43mkw\u001b[49m\u001b[43m)\u001b[49m\n\u001b[1;32m     84\u001b[0m     args_pos: P\u001b[38;5;241m.\u001b[39margs\n\u001b[1;32m     85\u001b[0m     args_pos, args_rest \u001b[38;5;241m=\u001b[39m args_all[:n_positional], args_all[n_positional:]\n",
      "File \u001b[0;32m/media/qian/vol2/Ivy/envs/xenium-env/lib/python3.10/site-packages/scanpy/tools/_rank_genes_groups.py:683\u001b[0m, in \u001b[0;36mrank_genes_groups\u001b[0;34m(adata, groupby, mask_var, use_raw, groups, reference, n_genes, rankby_abs, pts, key_added, copy, method, corr_method, tie_correct, layer, **kwds)\u001b[0m\n\u001b[1;32m    680\u001b[0m logg\u001b[38;5;241m.\u001b[39mdebug(\u001b[38;5;124mf\u001b[39m\u001b[38;5;124m\"\u001b[39m\u001b[38;5;124mconsider \u001b[39m\u001b[38;5;132;01m{\u001b[39;00mgroupby\u001b[38;5;132;01m!r}\u001b[39;00m\u001b[38;5;124m groups:\u001b[39m\u001b[38;5;124m\"\u001b[39m)\n\u001b[1;32m    681\u001b[0m logg\u001b[38;5;241m.\u001b[39mdebug(\u001b[38;5;124mf\u001b[39m\u001b[38;5;124m\"\u001b[39m\u001b[38;5;124mwith sizes: \u001b[39m\u001b[38;5;132;01m{\u001b[39;00mnp\u001b[38;5;241m.\u001b[39mcount_nonzero(test_obj\u001b[38;5;241m.\u001b[39mgroups_masks_obs,\u001b[38;5;250m \u001b[39maxis\u001b[38;5;241m=\u001b[39m\u001b[38;5;241m1\u001b[39m)\u001b[38;5;132;01m}\u001b[39;00m\u001b[38;5;124m\"\u001b[39m)\n\u001b[0;32m--> 683\u001b[0m \u001b[43mtest_obj\u001b[49m\u001b[38;5;241;43m.\u001b[39;49m\u001b[43mcompute_statistics\u001b[49m\u001b[43m(\u001b[49m\n\u001b[1;32m    684\u001b[0m \u001b[43m    \u001b[49m\u001b[43mmethod\u001b[49m\u001b[43m,\u001b[49m\n\u001b[1;32m    685\u001b[0m \u001b[43m    \u001b[49m\u001b[43mcorr_method\u001b[49m\u001b[38;5;241;43m=\u001b[39;49m\u001b[43mcorr_method\u001b[49m\u001b[43m,\u001b[49m\n\u001b[1;32m    686\u001b[0m \u001b[43m    \u001b[49m\u001b[43mn_genes_user\u001b[49m\u001b[38;5;241;43m=\u001b[39;49m\u001b[43mn_genes_user\u001b[49m\u001b[43m,\u001b[49m\n\u001b[1;32m    687\u001b[0m \u001b[43m    \u001b[49m\u001b[43mrankby_abs\u001b[49m\u001b[38;5;241;43m=\u001b[39;49m\u001b[43mrankby_abs\u001b[49m\u001b[43m,\u001b[49m\n\u001b[1;32m    688\u001b[0m \u001b[43m    \u001b[49m\u001b[43mtie_correct\u001b[49m\u001b[38;5;241;43m=\u001b[39;49m\u001b[43mtie_correct\u001b[49m\u001b[43m,\u001b[49m\n\u001b[1;32m    689\u001b[0m \u001b[43m    \u001b[49m\u001b[38;5;241;43m*\u001b[39;49m\u001b[38;5;241;43m*\u001b[39;49m\u001b[43mkwds\u001b[49m\u001b[43m,\u001b[49m\n\u001b[1;32m    690\u001b[0m \u001b[43m\u001b[49m\u001b[43m)\u001b[49m\n\u001b[1;32m    692\u001b[0m \u001b[38;5;28;01mif\u001b[39;00m test_obj\u001b[38;5;241m.\u001b[39mpts \u001b[38;5;129;01mis\u001b[39;00m \u001b[38;5;129;01mnot\u001b[39;00m \u001b[38;5;28;01mNone\u001b[39;00m:\n\u001b[1;32m    693\u001b[0m     groups_names \u001b[38;5;241m=\u001b[39m [\u001b[38;5;28mstr\u001b[39m(name) \u001b[38;5;28;01mfor\u001b[39;00m name \u001b[38;5;129;01min\u001b[39;00m test_obj\u001b[38;5;241m.\u001b[39mgroups_order]\n",
      "File \u001b[0;32m/media/qian/vol2/Ivy/envs/xenium-env/lib/python3.10/site-packages/scanpy/tools/_rank_genes_groups.py:419\u001b[0m, in \u001b[0;36m_RankGenes.compute_statistics\u001b[0;34m(self, method, corr_method, n_genes_user, rankby_abs, tie_correct, **kwds)\u001b[0m\n\u001b[1;32m    415\u001b[0m \u001b[38;5;28mself\u001b[39m\u001b[38;5;241m.\u001b[39mstats \u001b[38;5;241m=\u001b[39m \u001b[38;5;28;01mNone\u001b[39;00m\n\u001b[1;32m    417\u001b[0m n_genes \u001b[38;5;241m=\u001b[39m \u001b[38;5;28mself\u001b[39m\u001b[38;5;241m.\u001b[39mX\u001b[38;5;241m.\u001b[39mshape[\u001b[38;5;241m1\u001b[39m]\n\u001b[0;32m--> 419\u001b[0m \u001b[38;5;28;01mfor\u001b[39;00m group_index, scores, pvals \u001b[38;5;129;01min\u001b[39;00m generate_test_results:\n\u001b[1;32m    420\u001b[0m     group_name \u001b[38;5;241m=\u001b[39m \u001b[38;5;28mstr\u001b[39m(\u001b[38;5;28mself\u001b[39m\u001b[38;5;241m.\u001b[39mgroups_order[group_index])\n\u001b[1;32m    422\u001b[0m     \u001b[38;5;28;01mif\u001b[39;00m n_genes_user \u001b[38;5;129;01mis\u001b[39;00m \u001b[38;5;129;01mnot\u001b[39;00m \u001b[38;5;28;01mNone\u001b[39;00m:\n",
      "File \u001b[0;32m/media/qian/vol2/Ivy/envs/xenium-env/lib/python3.10/site-packages/scanpy/tools/_rank_genes_groups.py:313\u001b[0m, in \u001b[0;36m_RankGenes.wilcoxon\u001b[0;34m(self, tie_correct)\u001b[0m\n\u001b[1;32m    307\u001b[0m     logg\u001b[38;5;241m.\u001b[39mhint(\n\u001b[1;32m    308\u001b[0m         \u001b[38;5;124m\"\u001b[39m\u001b[38;5;124mFew observations in a group for \u001b[39m\u001b[38;5;124m\"\u001b[39m\n\u001b[1;32m    309\u001b[0m         \u001b[38;5;124m\"\u001b[39m\u001b[38;5;124mnormal approximation (<=25). Lower test accuracy.\u001b[39m\u001b[38;5;124m\"\u001b[39m\n\u001b[1;32m    310\u001b[0m     )\n\u001b[1;32m    312\u001b[0m \u001b[38;5;66;03m# Calculate rank sums for each chunk for the current mask\u001b[39;00m\n\u001b[0;32m--> 313\u001b[0m \u001b[38;5;28;01mfor\u001b[39;00m ranks, left, right \u001b[38;5;129;01min\u001b[39;00m _ranks(\u001b[38;5;28mself\u001b[39m\u001b[38;5;241m.\u001b[39mX, mask_obs, mask_obs_rest):\n\u001b[1;32m    314\u001b[0m     scores[left:right] \u001b[38;5;241m=\u001b[39m ranks\u001b[38;5;241m.\u001b[39miloc[\u001b[38;5;241m0\u001b[39m:n_active, :]\u001b[38;5;241m.\u001b[39msum(axis\u001b[38;5;241m=\u001b[39m\u001b[38;5;241m0\u001b[39m)\n\u001b[1;32m    315\u001b[0m     \u001b[38;5;28;01mif\u001b[39;00m tie_correct:\n",
      "File \u001b[0;32m/media/qian/vol2/Ivy/envs/xenium-env/lib/python3.10/site-packages/scanpy/tools/_rank_genes_groups.py:81\u001b[0m, in \u001b[0;36m_ranks\u001b[0;34m(X, mask_obs, mask_obs_rest)\u001b[0m\n\u001b[1;32m     78\u001b[0m right \u001b[38;5;241m=\u001b[39m \u001b[38;5;28mmin\u001b[39m(left \u001b[38;5;241m+\u001b[39m max_chunk, n_genes)\n\u001b[1;32m     80\u001b[0m df \u001b[38;5;241m=\u001b[39m pd\u001b[38;5;241m.\u001b[39mDataFrame(data\u001b[38;5;241m=\u001b[39mget_chunk(X, left, right))\n\u001b[0;32m---> 81\u001b[0m ranks \u001b[38;5;241m=\u001b[39m \u001b[43mdf\u001b[49m\u001b[38;5;241;43m.\u001b[39;49m\u001b[43mrank\u001b[49m\u001b[43m(\u001b[49m\u001b[43m)\u001b[49m\n\u001b[1;32m     82\u001b[0m \u001b[38;5;28;01myield\u001b[39;00m ranks, left, right\n",
      "File \u001b[0;32m/media/qian/vol2/Ivy/envs/xenium-env/lib/python3.10/site-packages/pandas/core/generic.py:10104\u001b[0m, in \u001b[0;36mNDFrame.rank\u001b[0;34m(self, axis, method, numeric_only, na_option, ascending, pct)\u001b[0m\n\u001b[1;32m  10101\u001b[0m \u001b[38;5;28;01melse\u001b[39;00m:\n\u001b[1;32m  10102\u001b[0m     data \u001b[38;5;241m=\u001b[39m \u001b[38;5;28mself\u001b[39m\n\u001b[0;32m> 10104\u001b[0m \u001b[38;5;28;01mreturn\u001b[39;00m \u001b[43mranker\u001b[49m\u001b[43m(\u001b[49m\u001b[43mdata\u001b[49m\u001b[43m)\u001b[49m\n",
      "File \u001b[0;32m/media/qian/vol2/Ivy/envs/xenium-env/lib/python3.10/site-packages/pandas/core/generic.py:10081\u001b[0m, in \u001b[0;36mNDFrame.rank.<locals>.ranker\u001b[0;34m(data)\u001b[0m\n\u001b[1;32m  10073\u001b[0m     ranks \u001b[38;5;241m=\u001b[39m values\u001b[38;5;241m.\u001b[39m_rank(\n\u001b[1;32m  10074\u001b[0m         axis\u001b[38;5;241m=\u001b[39maxis_int,\n\u001b[1;32m  10075\u001b[0m         method\u001b[38;5;241m=\u001b[39mmethod,\n\u001b[0;32m   (...)\u001b[0m\n\u001b[1;32m  10078\u001b[0m         pct\u001b[38;5;241m=\u001b[39mpct,\n\u001b[1;32m  10079\u001b[0m     )\n\u001b[1;32m  10080\u001b[0m \u001b[38;5;28;01melse\u001b[39;00m:\n\u001b[0;32m> 10081\u001b[0m     ranks \u001b[38;5;241m=\u001b[39m \u001b[43malgos\u001b[49m\u001b[38;5;241;43m.\u001b[39;49m\u001b[43mrank\u001b[49m\u001b[43m(\u001b[49m\n\u001b[1;32m  10082\u001b[0m \u001b[43m        \u001b[49m\u001b[43mvalues\u001b[49m\u001b[43m,\u001b[49m\n\u001b[1;32m  10083\u001b[0m \u001b[43m        \u001b[49m\u001b[43maxis\u001b[49m\u001b[38;5;241;43m=\u001b[39;49m\u001b[43maxis_int\u001b[49m\u001b[43m,\u001b[49m\n\u001b[1;32m  10084\u001b[0m \u001b[43m        \u001b[49m\u001b[43mmethod\u001b[49m\u001b[38;5;241;43m=\u001b[39;49m\u001b[43mmethod\u001b[49m\u001b[43m,\u001b[49m\n\u001b[1;32m  10085\u001b[0m \u001b[43m        \u001b[49m\u001b[43mascending\u001b[49m\u001b[38;5;241;43m=\u001b[39;49m\u001b[43mascending\u001b[49m\u001b[43m,\u001b[49m\n\u001b[1;32m  10086\u001b[0m \u001b[43m        \u001b[49m\u001b[43mna_option\u001b[49m\u001b[38;5;241;43m=\u001b[39;49m\u001b[43mna_option\u001b[49m\u001b[43m,\u001b[49m\n\u001b[1;32m  10087\u001b[0m \u001b[43m        \u001b[49m\u001b[43mpct\u001b[49m\u001b[38;5;241;43m=\u001b[39;49m\u001b[43mpct\u001b[49m\u001b[43m,\u001b[49m\n\u001b[1;32m  10088\u001b[0m \u001b[43m    \u001b[49m\u001b[43m)\u001b[49m\n\u001b[1;32m  10090\u001b[0m ranks_obj \u001b[38;5;241m=\u001b[39m \u001b[38;5;28mself\u001b[39m\u001b[38;5;241m.\u001b[39m_constructor(ranks, \u001b[38;5;241m*\u001b[39m\u001b[38;5;241m*\u001b[39mdata\u001b[38;5;241m.\u001b[39m_construct_axes_dict())\n\u001b[1;32m  10091\u001b[0m \u001b[38;5;28;01mreturn\u001b[39;00m ranks_obj\u001b[38;5;241m.\u001b[39m__finalize__(\u001b[38;5;28mself\u001b[39m, method\u001b[38;5;241m=\u001b[39m\u001b[38;5;124m\"\u001b[39m\u001b[38;5;124mrank\u001b[39m\u001b[38;5;124m\"\u001b[39m)\n",
      "File \u001b[0;32m/media/qian/vol2/Ivy/envs/xenium-env/lib/python3.10/site-packages/pandas/core/algorithms.py:1111\u001b[0m, in \u001b[0;36mrank\u001b[0;34m(values, axis, method, na_option, ascending, pct)\u001b[0m\n\u001b[1;32m   1102\u001b[0m     ranks \u001b[38;5;241m=\u001b[39m algos\u001b[38;5;241m.\u001b[39mrank_1d(\n\u001b[1;32m   1103\u001b[0m         values,\n\u001b[1;32m   1104\u001b[0m         is_datetimelike\u001b[38;5;241m=\u001b[39mis_datetimelike,\n\u001b[0;32m   (...)\u001b[0m\n\u001b[1;32m   1108\u001b[0m         pct\u001b[38;5;241m=\u001b[39mpct,\n\u001b[1;32m   1109\u001b[0m     )\n\u001b[1;32m   1110\u001b[0m \u001b[38;5;28;01melif\u001b[39;00m values\u001b[38;5;241m.\u001b[39mndim \u001b[38;5;241m==\u001b[39m \u001b[38;5;241m2\u001b[39m:\n\u001b[0;32m-> 1111\u001b[0m     ranks \u001b[38;5;241m=\u001b[39m \u001b[43malgos\u001b[49m\u001b[38;5;241;43m.\u001b[39;49m\u001b[43mrank_2d\u001b[49m\u001b[43m(\u001b[49m\n\u001b[1;32m   1112\u001b[0m \u001b[43m        \u001b[49m\u001b[43mvalues\u001b[49m\u001b[43m,\u001b[49m\n\u001b[1;32m   1113\u001b[0m \u001b[43m        \u001b[49m\u001b[43maxis\u001b[49m\u001b[38;5;241;43m=\u001b[39;49m\u001b[43maxis\u001b[49m\u001b[43m,\u001b[49m\n\u001b[1;32m   1114\u001b[0m \u001b[43m        \u001b[49m\u001b[43mis_datetimelike\u001b[49m\u001b[38;5;241;43m=\u001b[39;49m\u001b[43mis_datetimelike\u001b[49m\u001b[43m,\u001b[49m\n\u001b[1;32m   1115\u001b[0m \u001b[43m        \u001b[49m\u001b[43mties_method\u001b[49m\u001b[38;5;241;43m=\u001b[39;49m\u001b[43mmethod\u001b[49m\u001b[43m,\u001b[49m\n\u001b[1;32m   1116\u001b[0m \u001b[43m        \u001b[49m\u001b[43mascending\u001b[49m\u001b[38;5;241;43m=\u001b[39;49m\u001b[43mascending\u001b[49m\u001b[43m,\u001b[49m\n\u001b[1;32m   1117\u001b[0m \u001b[43m        \u001b[49m\u001b[43mna_option\u001b[49m\u001b[38;5;241;43m=\u001b[39;49m\u001b[43mna_option\u001b[49m\u001b[43m,\u001b[49m\n\u001b[1;32m   1118\u001b[0m \u001b[43m        \u001b[49m\u001b[43mpct\u001b[49m\u001b[38;5;241;43m=\u001b[39;49m\u001b[43mpct\u001b[49m\u001b[43m,\u001b[49m\n\u001b[1;32m   1119\u001b[0m \u001b[43m    \u001b[49m\u001b[43m)\u001b[49m\n\u001b[1;32m   1120\u001b[0m \u001b[38;5;28;01melse\u001b[39;00m:\n\u001b[1;32m   1121\u001b[0m     \u001b[38;5;28;01mraise\u001b[39;00m \u001b[38;5;167;01mTypeError\u001b[39;00m(\u001b[38;5;124m\"\u001b[39m\u001b[38;5;124mArray with ndim > 2 are not supported.\u001b[39m\u001b[38;5;124m\"\u001b[39m)\n",
      "\u001b[0;31mKeyboardInterrupt\u001b[0m: "
     ]
    }
   ],
   "source": [
    "celltype_receiver = {\n",
    "    'celltype': ['T-cells', 'Myeloid', 'B-cells'],\n",
    "    'rctd_celltype': ['tcell', 'myeloid', 'bcells']\n",
    "}\n",
    "\n",
    "celltype_sender = {\n",
    "    'celltype': ['Cancer Epithelial'],\n",
    "    'rctd_celltype': ['epithelial']\n",
    "}\n",
    "\n",
    "method = Neighborhood(\n",
    "    gene='CXCL12',\n",
    "    celltype_sender=None,\n",
    "    celltype_receiver=celltype_receiver,\n",
    "    adata=adata,\n",
    "    sender=False,\n",
    "    receiver=True\n",
    ")\n",
    "\n",
    "diff_expr = method.de_test(\n",
    "    nperm=0,\n",
    "    sort=True\n",
    ")\n"
   ]
  }
 ],
 "metadata": {
  "kernelspec": {
   "display_name": "xenium-env",
   "language": "python",
   "name": "xenium-env"
  },
  "language_info": {
   "codemirror_mode": {
    "name": "ipython",
    "version": 3
   },
   "file_extension": ".py",
   "mimetype": "text/x-python",
   "name": "python",
   "nbconvert_exporter": "python",
   "pygments_lexer": "ipython3",
   "version": "3.10.12"
  }
 },
 "nbformat": 4,
 "nbformat_minor": 5
}
